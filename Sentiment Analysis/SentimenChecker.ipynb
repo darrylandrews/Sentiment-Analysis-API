{
 "cells": [
  {
   "cell_type": "code",
   "execution_count": null,
   "id": "continental-organic",
   "metadata": {},
   "outputs": [
    {
     "name": "stdout",
     "output_type": "stream",
     "text": [
      " * Serving Flask app '__main__' (lazy loading)\n",
      " * Environment: production\n",
      "   WARNING: This is a development server. Do not use it in a production deployment.\n",
      "   Use a production WSGI server instead.\n",
      " * Debug mode: off\n"
     ]
    },
    {
     "name": "stderr",
     "output_type": "stream",
     "text": [
      " * Running on http://127.0.0.1:5000/ (Press CTRL+C to quit)\n",
      "127.0.0.1 - - [20/Jul/2022 22:30:16] \"GET / HTTP/1.1\" 200 -\n",
      "127.0.0.1 - - [20/Jul/2022 22:33:06] \"GET / HTTP/1.1\" 200 -\n",
      "127.0.0.1 - - [20/Jul/2022 22:33:18] \"POST /predict HTTP/1.1\" 200 -\n"
     ]
    }
   ],
   "source": [
    "from internal import slang_cleaning, tfidf_vectorize, word2vec, indo_bert\n",
    "from flask import Flask, request, render_template\n",
    "import webbrowser\n",
    "from threading import Timer\n",
    "import sys\n",
    "import os\n",
    "\n",
    "if getattr(sys, 'frozen', False):\n",
    "    template_folder = os.path.join(sys._MEIPASS, 'templates')\n",
    "    app = Flask(__name__, template_folder=template_folder)\n",
    "else:\n",
    "    app = Flask(__name__)\n",
    "\n",
    "@app.route('/')\n",
    "def home():\n",
    "    return render_template('index.html')\n",
    "\n",
    "@app.route('/predict', methods=['POST'])\n",
    "def predict():\n",
    "    review = str(request.form[\"reviews\"])\n",
    "    \n",
    "    cleaned_review = slang_cleaning(review)\n",
    "    \n",
    "    tfidf_lr, tfidf_svc = tfidf_vectorize(cleaned_review)\n",
    "    cbow_lr, cbow_lr_ft, cbow_svc, skip_lr, skip_svc = word2vec(cleaned_review)\n",
    "    indo_before, indo_after = indo_bert(cleaned_review)\n",
    "    \n",
    "    return render_template('index.html', \n",
    "                           original_review = f'{review}', \n",
    "                           preprocess = f'{cleaned_review}',\n",
    "                           res1=f'{tfidf_lr[0]}', \n",
    "                           res2=f'{tfidf_svc[0]}', \n",
    "                           res3=f'{cbow_lr[0]}', \n",
    "                           res4=f'{cbow_lr_ft[0]}', \n",
    "                           res5=f'{cbow_svc[0]}',\n",
    "                           res6=f'{skip_lr[0]}',\n",
    "                           res7=f'{skip_svc[0]}',\n",
    "                           res8=f'{indo_before.capitalize()}', \n",
    "                           res9=f'{indo_after.capitalize()}')\n",
    "\n",
    "def open_browser():\n",
    "    webbrowser.open_new('http://127.0.0.1:5000/')\n",
    "\n",
    "if __name__ == \"__main__\":\n",
    "    Timer(1, open_browser).start()\n",
    "    app.run()"
   ]
  },
  {
   "cell_type": "code",
   "execution_count": 1,
   "id": "aggressive-painting",
   "metadata": {},
   "outputs": [
    {
     "ename": "SyntaxError",
     "evalue": "invalid syntax (<ipython-input-1-80b969389e3f>, line 1)",
     "output_type": "error",
     "traceback": [
      "\u001b[1;36m  File \u001b[1;32m\"<ipython-input-1-80b969389e3f>\"\u001b[1;36m, line \u001b[1;32m1\u001b[0m\n\u001b[1;33m    pyinstaller Main.py\u001b[0m\n\u001b[1;37m                   ^\u001b[0m\n\u001b[1;31mSyntaxError\u001b[0m\u001b[1;31m:\u001b[0m invalid syntax\n"
     ]
    }
   ],
   "source": [
    "pyinstaller Main.py"
   ]
  },
  {
   "cell_type": "code",
   "execution_count": null,
   "id": "alternative-conflict",
   "metadata": {},
   "outputs": [],
   "source": []
  }
 ],
 "metadata": {
  "kernelspec": {
   "display_name": "Python 3",
   "language": "python",
   "name": "python3"
  },
  "language_info": {
   "codemirror_mode": {
    "name": "ipython",
    "version": 3
   },
   "file_extension": ".py",
   "mimetype": "text/x-python",
   "name": "python",
   "nbconvert_exporter": "python",
   "pygments_lexer": "ipython3",
   "version": "3.6.8"
  }
 },
 "nbformat": 4,
 "nbformat_minor": 5
}
